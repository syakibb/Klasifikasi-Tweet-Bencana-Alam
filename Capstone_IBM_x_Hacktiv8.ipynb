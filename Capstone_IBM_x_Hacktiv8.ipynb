{
  "nbformat": 4,
  "nbformat_minor": 0,
  "metadata": {
    "colab": {
      "provenance": [],
      "toc_visible": true
    },
    "kernelspec": {
      "name": "python3",
      "display_name": "Python 3"
    },
    "language_info": {
      "name": "python"
    }
  },
  "cells": [
    {
      "cell_type": "markdown",
      "source": [
        "# **Proyek Capstone: Klasifikasi Tweet Bencana Alam**\n",
        "\n",
        "Proyek ini bertujuan untuk membangun sebuah sistem cerdas yang mampu menganalisis dan mengklasifikasikan cuitan (tweet) di media sosial untuk mengidentifikasi laporan bencana alam yang relevan. Keunikan proyek ini terletak pada metodologinya yang sepenuhnya mengandalkan AI Agent. Agent ini dibangun menggunakan framework LangChain dan dirancang khusus untuk berinteraksi dengan data tabular (Pandas DataFrame), memungkinkannya menjalankan analisis kompleks melalui perintah bahasa natural.\n",
        "\n",
        "**Dataset:** [Natural Disasters Tweets - Kaggle](https://www.kaggle.com/competitions/nlp-getting-started/data)"
      ],
      "metadata": {
        "id": "ll75D2i3I_DJ"
      }
    },
    {
      "cell_type": "markdown",
      "source": [
        "## **1. Konfigurasi Environment dan Pemuatan Data**\n",
        "\n",
        "Tahap pertama ini mencakup semua persiapan teknis yang diperlukan sebelum membuat agent. Ini termasuk mengimpor library, mengkonfigurasi API key dengan aman, dan memuat dataset `train.csv` ke dalam sebuah DataFrame Pandas. DataFrame ini akan menjadi \"ruang kerja\" utama bagi AI Agent."
      ],
      "metadata": {
        "id": "ENNIfddvV5DI"
      }
    },
    {
      "cell_type": "markdown",
      "source": [
        "### **Impor, Konfigurasi, dan Pemuatan Data (Sel Kode)**"
      ],
      "metadata": {
        "id": "KIt3pU-VTsLL"
      }
    },
    {
      "cell_type": "code",
      "source": [
        "# Menginstal semua paket yang dibutuhkan untuk LangChain Pandas Agent\n",
        "!pip install langchain langchain_community langchain_experimental replicate pandas matplotlib seaborn -q"
      ],
      "metadata": {
        "id": "9FJkL5IwKl_G"
      },
      "execution_count": null,
      "outputs": []
    },
    {
      "cell_type": "code",
      "source": [
        "# Impor library dan komponen yang dibutuhkan\n",
        "import os\n",
        "import pandas as pd\n",
        "from google.colab import userdata\n",
        "from langchain_community.llms import Replicate\n",
        "from langchain_experimental.agents.agent_toolkits import create_pandas_dataframe_agent\n",
        "\n",
        "# Konfigurasi Replicate API Key dari Colab Secrets\n",
        "try:\n",
        "    REPLICATE_API_TOKEN = userdata.get('REPLICATE_API_TOKEN')\n",
        "    os.environ['REPLICATE_API_TOKEN'] = REPLICATE_API_TOKEN\n",
        "    print(\"✅ API Key berhasil dikonfigurasi.\")\n",
        "except Exception as e:\n",
        "    print(\"🚨 Konfigurasi API Key gagal.\")\n",
        "\n",
        "# Memuat dataset ke dalam pandas DataFrame\n",
        "# DataFrame ini akan menjadi \"workspace\" untuk AI Agent\n",
        "try:\n",
        "    df = pd.read_csv('train.csv')\n",
        "    print(\"✅ Dataset 'train.csv' berhasil dimuat ke dalam DataFrame.\")\n",
        "except FileNotFoundError:\n",
        "    print(\"🚨 File 'train.csv' tidak ditemukan. Mohon unggah file tersebut.\")"
      ],
      "metadata": {
        "colab": {
          "base_uri": "https://localhost:8080/"
        },
        "id": "OwP5HEGATvAm",
        "outputId": "af07769a-abbc-4575-99bd-1429cf244cd5"
      },
      "execution_count": null,
      "outputs": [
        {
          "output_type": "stream",
          "name": "stdout",
          "text": [
            "✅ API Key berhasil dikonfigurasi.\n",
            "✅ Dataset 'train.csv' berhasil dimuat ke dalam DataFrame.\n"
          ]
        }
      ]
    },
    {
      "cell_type": "markdown",
      "source": [
        "## **2. Membuat dan Menginisialisasi AI Agent**\n",
        "\n",
        "Setelah semua persiapan selesai, langkah selanjutnya adalah membuat agent itu sendiri. Proses ini menggabungkan model bahasa (LLM) sebagai \"otak\" dengan DataFrame sebagai \"konteks\" atau ruang kerjanya."
      ],
      "metadata": {
        "id": "0YS3ek4sV0Tz"
      }
    },
    {
      "cell_type": "code",
      "source": [
        "# Mendefinisikan LLM yang akan digunakan sebagai 'otak' agent\n",
        "llm = Replicate(\n",
        "    model=\"ibm-granite/granite-3.3-8b-instruct\",\n",
        "    model_kwargs={\"temperature\": 0.0, \"max_new_tokens\": 1024}\n",
        ")\n",
        "\n",
        "# Membuat Pandas DataFrame Agent\n",
        "try:\n",
        "    agent = create_pandas_dataframe_agent(\n",
        "        llm=llm,\n",
        "        df=df,\n",
        "        verbose=True,\n",
        "        allow_dangerous_code=True\n",
        "    )\n",
        "    print(\"\\n✅ AI Agent berhasil dibuat dan siap digunakan.\")\n",
        "except NameError:\n",
        "    print(\"\\n🚨 DataFrame 'df' tidak ditemukan. Pastikan sel sebelumnya telah dijalankan tanpa error.\")"
      ],
      "metadata": {
        "colab": {
          "base_uri": "https://localhost:8080/"
        },
        "id": "77NP7RYCV94o",
        "outputId": "8350d0b2-bb27-4f03-abfc-c2274dbdd426"
      },
      "execution_count": null,
      "outputs": [
        {
          "output_type": "stream",
          "name": "stdout",
          "text": [
            "\n",
            "✅ AI Agent berhasil dibuat dan siap digunakan.\n"
          ]
        }
      ]
    },
    {
      "cell_type": "markdown",
      "source": [
        "## **3. Interaksi Pertama dengan Agent: Eksplorasi Data**\n",
        "\n",
        "Kini saatnya memberikan perintah pertama kepada agent. Perintah akan diberikan dalam format bahasa natural, seolah-olah sedang berbicara dengan seorang asisten analis data.\n",
        "\n",
        "Perhatikan output yang akan muncul. Karena `verbose=True`, agent akan menampilkan **\"Chain of Thought\"**-nya: apa yang ia pikirkan, kode apa yang ia putuskan untuk dijalankan, hasil dari kode tersebut, dan jawaban akhirnya."
      ],
      "metadata": {
        "id": "KkkCNttVWd41"
      }
    },
    {
      "cell_type": "code",
      "source": [
        "# Merumuskan perintah pertama dalam bahasa natural\n",
        "prompt_pertama = \"Tolong berikan ringkasan dasar dari data ini. Ada berapa total baris dan kolom? Tampilkan juga lima baris pertama dari data tersebut.\"\n",
        "\n",
        "# Menjalankan agent dengan perintah yang telah dirumuskan\n",
        "try:\n",
        "    response = agent.invoke(prompt_pertama)\n",
        "except Exception as e:\n",
        "    print(f\"🚨 Terjadi error saat berinteraksi dengan agent: {e}\")"
      ],
      "metadata": {
        "colab": {
          "base_uri": "https://localhost:8080/"
        },
        "id": "08IxHIZpWhFW",
        "outputId": "36610035-2363-4bc7-cb2a-adefbcbc182d"
      },
      "execution_count": null,
      "outputs": [
        {
          "output_type": "stream",
          "name": "stdout",
          "text": [
            "\n",
            "\n",
            "\u001b[1m> Entering new AgentExecutor chain...\u001b[0m\n",
            "\u001b[32;1m\u001b[1;3mThought: The user is asking for a summary of the data, specifically the total number of rows and columns, and the first five rows of the dataframe. I will use the `shape` attribute of the dataframe to get the number of rows and columns, and then print the first five rows using `print(df.head())`.\n",
            "\n",
            "Action: python_repl_ast\n",
            "\n",
            "Action Input: \n",
            "```python\n",
            "df.shape\n",
            "```\n",
            "\u001b[0m\u001b[36;1m\u001b[1;3m(7613, 5)\u001b[0m\u001b[32;1m\u001b[1;3mThe dataframe `df` has a total of 7613 rows and 5 columns.\n",
            "\n",
            "Action: python_repl_ast\n",
            "\n",
            "Action Input:\n",
            "```python\n",
            "print(df.head())\n",
            "```\n",
            "\u001b[0m\u001b[36;1m\u001b[1;3m   id keyword location                                               text  \\\n",
            "0   1     NaN      NaN  Our Deeds are the Reason of this #earthquake M...   \n",
            "1   4     NaN      NaN             Forest fire near La Ronge Sask. Canada   \n",
            "2   5     NaN      NaN  All residents asked to 'shelter in place' are ...   \n",
            "3   6     NaN      NaN  13,000 people receive #wildfires evacuation or...   \n",
            "4   7     NaN      NaN  Just got sent this photo from Ruby #Alaska as ...   \n",
            "\n",
            "   target  \n",
            "0       1  \n",
            "1       1  \n",
            "2       1  \n",
            "3       1  \n",
            "4       1  \n",
            "\u001b[0m\u001b[32;1m\u001b[1;3mI now know the final answer.\n",
            "Final Answer: The dataframe `df` has a total of 7613 rows and 5 columns. Here are the first five rows of the data:\n",
            "\n",
            "|    |   id |   keyword |   location |                                               text  | target |\n",
            "|---:|-----:|----------:|-----------:|:-------------------------------------------------------|---------:|\n",
            "|  0 |    1 |       nan |        nan | Our Deeds are the Reason of this #earthquake M... |        1 |\n",
            "|  1 |    4 |       nan |        nan | Forest fire near La Ronge Sask. Canada |        1 |\n",
            "|  2 |    5 |       nan |        nan | All residents asked to 'shelter in place' are ... |        1 |\n",
            "|  3 |    6 |       nan |        nan | 13,000 people receive #wildfires evacuation or... |        1 |\n",
            "|  4 |    7 |       nan |        nan | Just got sent this photo from Ruby #Alaska as ... |        1 |\n",
            "\n",
            "The 'target' column has the value 1 for all rows shown.\u001b[0m\n",
            "\n",
            "\u001b[1m> Finished chain.\u001b[0m\n"
          ]
        }
      ]
    },
    {
      "cell_type": "markdown",
      "source": [
        "### **Menganalisis Jawaban Agent**\n",
        "\n",
        "Dari output di atas, Anda dapat melihat bagaimana agent bekerja:\n",
        "1.  **Thought (Pikiran):** Agent menganalisis permintaan Anda dan memutuskan bahwa untuk menjawabnya, ia perlu menjalankan beberapa kode Python pada DataFrame (`df`).\n",
        "2.  **Action (Aksi):** Agent menulis dan mengeksekusi kode yang relevan, kemungkinan besar `df.shape` dan `df.head()`.\n",
        "3.  **Observation (Observasi):** Agent melihat hasil dari eksekusi kode tersebut.\n",
        "4.  **Final Answer (Jawaban Akhir):** Agent merangkum hasil observasinya ke dalam sebuah jawaban yang mudah dipahami.\n",
        "\n",
        "Proses ini menunjukkan bahwa agent berhasil memahami perintah, berinteraksi dengan data, dan memberikan jawaban yang relevan. Selanjutnya, kita bisa memberikan tugas yang lebih kompleks seperti membuat visualisasi."
      ],
      "metadata": {
        "id": "ibXXQ43HWsKq"
      }
    },
    {
      "cell_type": "markdown",
      "source": [
        "## **4. Visualisasi Data Otomatis dengan Agent**\n",
        "\n",
        "Setelah agent berhasil melakukan eksplorasi data dasar, kini saatnya memberikan tugas yang lebih kompleks. Agent akan diinstruksikan untuk membuat sebuah visualisasi diagram batang (bar chart) untuk menampilkan distribusi dari kolom `target`.\n",
        "\n",
        "Perhatikan kembali \"Chain of Thought\" dari agent. Ia akan menentukan library yang akan digunakan (Matplotlib/Seaborn), menulis kode untuk membuat plot, dan mengeksekusinya secara mandiri. Hasil akhirnya adalah sebuah grafik yang langsung ditampilkan di output sel."
      ],
      "metadata": {
        "id": "V5zpwl-5XFCq"
      }
    },
    {
      "cell_type": "code",
      "source": [
        "# Merumuskan perintah untuk membuat visualisasi\n",
        "prompt_visualisasi = \"Please create a bar chart to visualize the distribution of the 'target' column. Make sure the chart has a title, clear x-axis and y-axis labels, and use different colors for each bar.\"\n",
        "\n",
        "# Menjalankan agent dengan perintah visualisasi\n",
        "try:\n",
        "    # Agent akan berpikir, menulis kode, dan mengeksekusinya. Hasilnya akan langsung ditampilkan.\n",
        "    agent.invoke(prompt_visualisasi)\n",
        "except Exception as e:\n",
        "    print(f\"🚨 Terjadi error saat meminta visualisasi: {e}\")"
      ],
      "metadata": {
        "colab": {
          "base_uri": "https://localhost:8080/",
          "height": 1000
        },
        "id": "SO12wre8XMyZ",
        "outputId": "bab52f82-d330-4dea-d5b2-d168390695a5"
      },
      "execution_count": null,
      "outputs": [
        {
          "output_type": "stream",
          "name": "stdout",
          "text": [
            "\n",
            "\n",
            "\u001b[1m> Entering new AgentExecutor chain...\u001b[0m\n"
          ]
        },
        {
          "output_type": "display_data",
          "data": {
            "text/plain": [
              "<Figure size 1000x600 with 1 Axes>"
            ],
            "image/png": "[encoded data removed]"
          },
          "metadata": {}
        },
        {
          "output_type": "stream",
          "name": "stdout",
          "text": [
            "\u001b[32;1m\u001b[1;3mThought: To create a bar chart of the 'target' column distribution, I will use the `value_counts()` function to count the occurrences of each unique value in the 'target' column. Then, I will use the `plot.bar()` function from pandas to create the bar chart. I will also add a title and labels to the chart for clarity.\n",
            "\n",
            "Action: python_repl_ast\n",
            "\n",
            "Action Input:\n",
            "```python\n",
            "import matplotlib.pyplot as plt\n",
            "\n",
            "# Count occurrences of each unique value in 'target'\n",
            "target_counts = df['target'].value_counts()\n",
            "\n",
            "# Create a bar chart\n",
            "plt.figure(figsize=(10, 6))\n",
            "target_counts.plot(kind='bar', color=['skyblue', 'lightcoral'])\n",
            "\n",
            "# Add title and labels\n",
            "plt.title('Distribution of Target Values')\n",
            "plt.xlabel('Target')\n",
            "plt.ylabel('Count')\n",
            "\n",
            "# Show the plot\n",
            "plt.show()\n",
            "```\n",
            "\u001b[0m\u001b[36;1m\u001b[1;3m\u001b[0m\u001b[32;1m\u001b[1;3mFinal Answer:\n",
            "\n",
            "A bar chart visualizing the distribution of the 'target' column has been created. The chart displays the count of each unique value in the 'target' column with different colors for better distinction. The chart is titled 'Distribution of Target Values', and the x-axis is labeled 'Target' while the y-axis is labeled 'Count'.\n",
            "\n",
            "### Bar Chart Description:\n",
            "\n",
            "- **Title**: Distribution of Target Values\n",
            "- **X-axis Label**: Target\n",
            "- **Y-axis Label**: Count\n",
            "- **Colors**: skyblue for one target value and lightcoral for the other\n",
            "\n",
            "Since I cannot directly display the image here, you would see a bar chart with two bars representing the counts of the unique values in the 'target' column when you run the provided code.\n",
            "\n",
            "### Code Snippet:\n",
            "```python\n",
            "import matplotlib.pyplot as plt\n",
            "\n",
            "# Count occurrences of each unique value in 'target'\n",
            "target_counts = df['target'].value_counts()\n",
            "\n",
            "# Create a bar chart\n",
            "plt.figure(figsize=(10, 6))\n",
            "target_counts.plot(kind='bar', color=['skyblue', 'lightcoral'])\n",
            "\n",
            "# Add title and labels\n",
            "plt.title('Distribution of Target Values')\n",
            "plt.xlabel('Target')\n",
            "plt.ylabel('Count')\n",
            "\n",
            "# Show the plot\n",
            "plt.show()\n",
            "```\n",
            "\n",
            "This code will generate the bar chart as described.\u001b[0m\n",
            "\n",
            "\u001b[1m> Finished chain.\u001b[0m\n"
          ]
        }
      ]
    },
    {
      "cell_type": "markdown",
      "source": [
        "### **Insight dari Visualisasi**\n",
        "\n",
        "Visualisasi yang dihasilkan oleh agent memberikan konfirmasi visual yang jelas mengenai distribusi kelas dalam dataset. Dari diagram batang tersebut, dapat ditarik beberapa insight:\n",
        "\n",
        "* **Distribusi Tidak Seimbang Sempurna:** Terlihat jelas bahwa jumlah cuitan **'Bukan Bencana (0)'** lebih banyak daripada cuitan **'Bencana (1)'**. Ini menunjukkan adanya sedikit ketidakseimbangan kelas (*slight class imbalance*) dalam data.\n",
        "\n",
        "* **Kondisi yang Cukup Baik:** Meskipun tidak seimbang sempurna, proporsi antara kedua kelas tidak ekstrem. Kelas minoritas (Bencana) masih memiliki jumlah data yang signifikan (lebih dari 3,000 sampel). Ini adalah kondisi awal yang cukup baik, karena model klasifikasi nantinya memiliki cukup contoh dari kedua kategori untuk dipelajari.\n",
        "\n",
        "* **Implikasi untuk Model:** Karena ketidakseimbangan tidak parah, model standar kemungkinan besar sudah bisa berkinerja baik. Namun, saat melakukan evaluasi model nanti, metrik seperti *Precision*, *Recall*, dan *F1-Score* akan lebih informatif daripada sekadar *Akurasi*."
      ],
      "metadata": {
        "id": "EnPS-NeuY-2i"
      }
    },
    {
      "cell_type": "markdown",
      "source": [
        "## **5. Melakukan Klasifikasi Teks dengan Agent**\n",
        "\n",
        "Setelah memahami data, sekarang agent akan diuji pada tugas utamanya: melakukan klasifikasi. Agent akan diberi sebuah cuitan (teks) dan diminta untuk menentukan apakah cuitan tersebut termasuk dalam kategori `Bencana (1)` atau `Bukan Bencana (0)`.\n",
        "\n",
        "Untuk mendemonstrasikan kemampuannya, kita akan menguji agent pada beberapa contoh cuitan yang diambil dari dataset."
      ],
      "metadata": {
        "id": "RC5YTelQZFk8"
      }
    },
    {
      "cell_type": "code",
      "source": [
        "# Mengambil satu contoh cuitan yang merupakan bencana (target=1) dan satu yang bukan (target=0)\n",
        "contoh_bencana = df[df['target'] == 1]['text'].iloc[0]\n",
        "contoh_bukan_bencana = df[df['target'] == 0]['text'].iloc[0]\n",
        "\n",
        "# --- Tes Klasifikasi Pertama: Cuitan Bencana ---\n",
        "print(\"--- Menguji Cuitan Kategori Bencana ---\")\n",
        "print(f\"Teks Cuitan: {contoh_bencana}\")\n",
        "\n",
        "prompt_klasifikasi_1 = f\"\"\"\n",
        "Analyze the following tweet. Your task is to classify it as either about a real disaster or not.\n",
        "Respond with the number 1 if it is a real disaster, and 0 if it is not.\n",
        "Do not provide any explanation, only the final number.\n",
        "\n",
        "Tweet: \"{contoh_bencana}\"\n",
        "\n",
        "Classification:\n",
        "\"\"\"\n",
        "\n",
        "try:\n",
        "    # Meminta agent untuk melakukan klasifikasi\n",
        "    agent.invoke(prompt_klasifikasi_1)\n",
        "except Exception as e:\n",
        "    print(f\"🚨 Terjadi error saat meminta klasifikasi: {e}\")\n",
        "\n",
        "\n",
        "# --- Tes Klasifikasi Kedua: Cuitan Bukan Bencana ---\n",
        "print(\"\\n--- Menguji Cuitan Kategori Bukan Bencana ---\")\n",
        "print(f\"Teks Cuitan: {contoh_bukan_bencana}\")\n",
        "\n",
        "\n",
        "prompt_klasifikasi_2 = f\"\"\"\n",
        "Analyze the following tweet. Your task is to classify it as either about a real disaster or not.\n",
        "Respond with the number 1 if it is a real disaster, and 0 if it is not.\n",
        "Do not provide any explanation, only the final number.\n",
        "\n",
        "Tweet: \"{contoh_bukan_bencana}\"\n",
        "\n",
        "Classification:\n",
        "\"\"\"\n",
        "\n",
        "try:\n",
        "    # Meminta agent untuk melakukan klasifikasi\n",
        "    agent.invoke(prompt_klasifikasi_2)\n",
        "except Exception as e:\n",
        "    print(f\"🚨 Terjadi error saat meminta klasifikasi: {e}\")"
      ],
      "metadata": {
        "colab": {
          "base_uri": "https://localhost:8080/"
        },
        "id": "Zb3tPzWHZKNP",
        "outputId": "a23cecc6-5d5e-4cc2-84f9-67424b83adc3"
      },
      "execution_count": null,
      "outputs": [
        {
          "output_type": "stream",
          "name": "stdout",
          "text": [
            "--- Menguji Cuitan Kategori Bencana ---\n",
            "Teks Cuitan: Our Deeds are the Reason of this #earthquake May ALLAH Forgive us all\n",
            "\n",
            "\n",
            "\u001b[1m> Entering new AgentExecutor chain...\u001b[0m\n",
            "\u001b[32;1m\u001b[1;3mThought: The tweet mentions an earthquake, which is a natural disaster.\n",
            "Action: python_repl_ast\n",
            "Action Input: print(1)\u001b[0m\u001b[36;1m\u001b[1;3m1\n",
            "\u001b[0m\u001b[32;1m\u001b[1;3mFinal Answer: 1\u001b[0m\n",
            "\n",
            "\u001b[1m> Finished chain.\u001b[0m\n",
            "\n",
            "--- Menguji Cuitan Kategori Bukan Bencana ---\n",
            "Teks Cuitan: What's up man?\n",
            "\n",
            "\n",
            "\u001b[1m> Entering new AgentExecutor chain...\u001b[0m\n",
            "\u001b[32;1m\u001b[1;3mThought: The tweet does not contain any disaster-related keywords or context.\n",
            "Action: python_repl_ast\n",
            "Action Input: 0\u001b[0m\u001b[36;1m\u001b[1;3m0\u001b[0m\u001b[32;1m\u001b[1;3mFinal Answer: 0\u001b[0m\n",
            "\n",
            "\u001b[1m> Finished chain.\u001b[0m\n"
          ]
        }
      ]
    },
    {
      "cell_type": "markdown",
      "source": [
        "### **Hasil dan Evaluasi Klasifikasi**\n",
        "\n",
        "Pada sel di atas, agent diberi dua tugas klasifikasi zero-shot (tanpa contoh sebelumnya).\n",
        "1.  Untuk cuitan pertama (\"Our Deeds are the Reason of this #earthquake...\"), agent seharusnya menghasilkan output `1`.\n",
        "2.  Untuk cuitan kedua (\"What's up man?\"), agent seharusnya menghasilkan output `0`.\n",
        "\n",
        "Keberhasilan agent dalam memberikan klasifikasi yang benar menunjukkan bahwa ia tidak hanya dapat menganalisis data secara umum, tetapi juga dapat melakukan tugas prediksi spesifik sesuai instruksi. Untuk evaluasi yang lebih mendalam, proses ini akan diulang pada sebagian besar data (data uji) untuk menghitung metrik performa seperti akurasi.\n",
        "\n",
        "Sekarang, tahap inti dari proyek klasifikasi ini telah selesai didemonstrasikan."
      ],
      "metadata": {
        "id": "Vn8Kp6dIZ8aa"
      }
    },
    {
      "cell_type": "markdown",
      "source": [
        "## **Ringkasan Proyek**\n",
        "\n",
        "Proyek ini berhasil mendemonstrasikan penggunaan **AI Agent** yang dibangun dengan framework **LangChain** untuk melakukan analisis end-to-end pada dataset cuitan bencana alam. Berbeda dengan pendekatan tradisional yang mengandalkan penulisan kode manual untuk setiap langkah analisis, proyek ini menggunakan **perintah bahasa natural** untuk menginstruksikan agent melakukan tugas-tugas kompleks.\n",
        "\n",
        "**Temuan dan Pencapaian Kunci:**\n",
        "1.  **Analisis Eksplorasi Otomatis:** Agent berhasil memahami struktur data, menghitung jumlah baris dan kolom, serta menampilkan sampel data hanya dengan perintah sederhana.\n",
        "2.  **Visualisasi Otomatis:** Agent mampu secara mandiri menulis dan mengeksekusi kode Python untuk membuat diagram batang yang informatif, memvisualisasikan distribusi kelas `target` dalam dataset.\n",
        "3.  **Demonstrasi Klasifikasi:** Agent berhasil melakukan tugas klasifikasi *zero-shot* pada cuitan sampel, membuktikan kemampuannya untuk melakukan tugas prediksi inti dari proyek ini.\n",
        "\n",
        "**Kesimpulan:**\n",
        "Pendekatan menggunakan AI Agent terbukti sebagai metode yang sangat kuat dan efisien untuk analisis data. Hal ini memungkinkan analis untuk lebih fokus pada \"apa\" yang ingin diketahui dari data, sementara \"bagaimana\" cara teknis melakukannya (penulisan kode) didelegasikan kepada agent. Meskipun memiliki keterbatasan dalam hal kecepatan dan biaya untuk dataset skala sangat besar, metodologi ini menunjukkan masa depan analisis data yang lebih intuitif dan interaktif."
      ],
      "metadata": {
        "id": "pYLiNG9mZwqs"
      }
    }
  ]
}